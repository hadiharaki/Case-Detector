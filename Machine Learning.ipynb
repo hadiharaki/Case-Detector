{
 "cells": [
  {
   "cell_type": "markdown",
   "id": "1610a224",
   "metadata": {},
   "source": [
    "# Needed Imports"
   ]
  },
  {
   "cell_type": "code",
   "execution_count": 1,
   "id": "46584778",
   "metadata": {},
   "outputs": [],
   "source": [
    "import random\n",
    "import tkinter as tk\n",
    "from tkinter import filedialog, messagebox, ttk\n",
    "import numpy as np\n",
    "import tensorflow as tf\n",
    "import string"
   ]
  },
  {
   "cell_type": "markdown",
   "id": "aa0bb9e6",
   "metadata": {},
   "source": [
    "#  Create a learning base containing alphabetic characters"
   ]
  },
  {
   "cell_type": "code",
   "execution_count": 2,
   "id": "eb51d6e3",
   "metadata": {},
   "outputs": [],
   "source": [
    "def generate_dataset():\n",
    "    dataset = []\n",
    "    lowercase_chars = string.ascii_lowercase\n",
    "    uppercase_chars = string.ascii_uppercase\n",
    "    for char in lowercase_chars:    #here we are making loop to store them in a tuple (letter,'lower/uppper') \n",
    "        dataset.append((char, \"lowercase\"))\n",
    "    for char in uppercase_chars:\n",
    "        dataset.append((char, \"uppercase\"))\n",
    "    # Additional variations\n",
    "    variations = []\n",
    "    num_variations = 100#edit this to change the variations num and edit input_size accordngly \n",
    "    for _ in range(num_variations):\n",
    "        lowercase_char = random.choice(lowercase_chars)\n",
    "        uppercase_char = random.choice(uppercase_chars)\n",
    "        # Add lowercase variation\n",
    "        lowercase_variation = random.choice(lowercase_chars)\n",
    "        while lowercase_variation == lowercase_char:\n",
    "            lowercase_variation = random.choice(lowercase_chars)\n",
    "        variations.append((lowercase_variation, \"lowercase\"))\n",
    "        # Add uppercase variation\n",
    "        uppercase_variation = random.choice(uppercase_chars)\n",
    "        while uppercase_variation == uppercase_char:\n",
    "            uppercase_variation = random.choice(uppercase_chars)\n",
    "        variations.append((uppercase_variation, \"uppercase\"))\n",
    "    dataset.extend(variations)\n",
    "    return dataset"
   ]
  },
  {
   "cell_type": "markdown",
   "id": "cf8cdade",
   "metadata": {},
   "source": [
    "# Design a suitable neural network structure"
   ]
  },
  {
   "cell_type": "code",
   "execution_count": 3,
   "id": "304c4bce",
   "metadata": {},
   "outputs": [
    {
     "name": "stderr",
     "output_type": "stream",
     "text": [
      "C:\\Users\\user\\anaconda3\\Lib\\site-packages\\keras\\src\\layers\\core\\dense.py:87: UserWarning: Do not pass an `input_shape`/`input_dim` argument to a layer. When using Sequential models, prefer using an `Input(shape)` object as the first layer in the model instead.\n",
      "  super().__init__(activity_regularizer=activity_regularizer, **kwargs)\n"
     ]
    }
   ],
   "source": [
    "input_size = 152\n",
    "output_size = 2\n",
    "# Define the neural network architecture\n",
    "model = tf.keras.Sequential([\n",
    "    tf.keras.layers.Dense(64, activation='relu', input_shape=(input_size,)),\n",
    "    tf.keras.layers.Dense(64, activation='relu'),\n",
    "    tf.keras.layers.Dense(output_size, activation='softmax')\n",
    "])"
   ]
  },
  {
   "cell_type": "markdown",
   "id": "5797ed58",
   "metadata": {},
   "source": [
    "# Apply the gradient backpropagation algorithm for learning"
   ]
  },
  {
   "cell_type": "code",
   "execution_count": 4,
   "id": "609b3fed",
   "metadata": {},
   "outputs": [],
   "source": [
    "# Compile the model     here we compile(configure) the model and put some properties before training\n",
    "model.compile(optimizer='adam',\n",
    "              loss='categorical_crossentropy',\n",
    "              metrics=['accuracy'])"
   ]
  },
  {
   "cell_type": "code",
   "execution_count": 5,
   "id": "f66cc12e",
   "metadata": {},
   "outputs": [],
   "source": [
    "# Load and preprocess the data\n",
    "def preprocess_data(data):\n",
    "    char_to_idx = {char: idx for idx, char in enumerate(string.ascii_lowercase + string.ascii_uppercase)} # here 3m n3ml dictionary n7ot fiha kl el characters lower w upper m3 index starting from 0\n",
    "    num_samples = len(data)\n",
    "    X = np.zeros((num_samples, input_size))   #hol dimensions / rows fehon el samples wl column el features\n",
    "    y = np.zeros((num_samples, output_size))\n",
    "    for i, (char, label) in enumerate(data):\n",
    "        X[i, char_to_idx[char]] = 1.0\n",
    "        if label == \"lowercase\":\n",
    "            y[i, 0] = 1.0\n",
    "        elif label == \"uppercase\":\n",
    "            y[i, 1] = 1.0\n",
    "    return X, y"
   ]
  },
  {
   "cell_type": "markdown",
   "id": "9eb39d7f",
   "metadata": {},
   "source": [
    "# Train the model"
   ]
  },
  {
   "cell_type": "code",
   "execution_count": 6,
   "id": "f5fdfa14",
   "metadata": {},
   "outputs": [],
   "source": [
    "def train_model(model, X_train, y_train):\n",
    "    model.fit(X_train, y_train, epochs=10, batch_size=32)  # Increase epochs for better convergence"
   ]
  },
  {
   "cell_type": "markdown",
   "id": "21995bdd",
   "metadata": {},
   "source": [
    "# Evaluate the model"
   ]
  },
  {
   "cell_type": "code",
   "execution_count": 7,
   "id": "ba0e7c3f",
   "metadata": {},
   "outputs": [],
   "source": [
    "def evaluate_model(model, X_test, y_test):\n",
    "    loss, accuracy = model.evaluate(X_test, y_test, verbose=0)\n",
    "    print(f\"Test Loss: {loss:.4f}\")\n",
    "    print(f\"Test Accuracy: {accuracy:.4f}\")"
   ]
  },
  {
   "cell_type": "markdown",
   "id": "4cf38e31",
   "metadata": {},
   "source": [
    "# Test the model"
   ]
  },
  {
   "cell_type": "code",
   "execution_count": 8,
   "id": "e2610c20",
   "metadata": {},
   "outputs": [],
   "source": [
    "def test_model(model, X_test, chars):\n",
    "    predictions = model.predict(X_test)\n",
    "    predicted_labels = np.argmax(predictions, axis=1)\n",
    "    mapping = {0: \"lowercase\", 1: \"uppercase\"}\n",
    "    results = []\n",
    "    for i, predicted_label in enumerate(predicted_labels):\n",
    "        results.append(f\"Character: {chars[i]}, Predicted Label: {mapping[predicted_label]}\")\n",
    "    return results"
   ]
  },
  {
   "cell_type": "markdown",
   "id": "78f5389f",
   "metadata": {},
   "source": [
    "# Training after generating dataset"
   ]
  },
  {
   "cell_type": "code",
   "execution_count": 9,
   "id": "af346043",
   "metadata": {},
   "outputs": [
    {
     "name": "stdout",
     "output_type": "stream",
     "text": [
      "Epoch 1/10\n",
      "\u001b[1m8/8\u001b[0m \u001b[32m━━━━━━━━━━━━━━━━━━━━\u001b[0m\u001b[37m\u001b[0m \u001b[1m1s\u001b[0m 2ms/step - accuracy: 0.4357 - loss: 0.6968  \n",
      "Epoch 2/10\n",
      "\u001b[1m8/8\u001b[0m \u001b[32m━━━━━━━━━━━━━━━━━━━━\u001b[0m\u001b[37m\u001b[0m \u001b[1m0s\u001b[0m 1ms/step - accuracy: 0.7236 - loss: 0.6730 \n",
      "Epoch 3/10\n",
      "\u001b[1m8/8\u001b[0m \u001b[32m━━━━━━━━━━━━━━━━━━━━\u001b[0m\u001b[37m\u001b[0m \u001b[1m0s\u001b[0m 1ms/step - accuracy: 0.8380 - loss: 0.6531 \n",
      "Epoch 4/10\n",
      "\u001b[1m8/8\u001b[0m \u001b[32m━━━━━━━━━━━━━━━━━━━━\u001b[0m\u001b[37m\u001b[0m \u001b[1m0s\u001b[0m 2ms/step - accuracy: 0.9510 - loss: 0.6297 \n",
      "Epoch 5/10\n",
      "\u001b[1m8/8\u001b[0m \u001b[32m━━━━━━━━━━━━━━━━━━━━\u001b[0m\u001b[37m\u001b[0m \u001b[1m0s\u001b[0m 1ms/step - accuracy: 0.9697 - loss: 0.5980 \n",
      "Epoch 6/10\n",
      "\u001b[1m8/8\u001b[0m \u001b[32m━━━━━━━━━━━━━━━━━━━━\u001b[0m\u001b[37m\u001b[0m \u001b[1m0s\u001b[0m 1ms/step - accuracy: 0.9703 - loss: 0.5571 \n",
      "Epoch 7/10\n",
      "\u001b[1m8/8\u001b[0m \u001b[32m━━━━━━━━━━━━━━━━━━━━\u001b[0m\u001b[37m\u001b[0m \u001b[1m0s\u001b[0m 2ms/step - accuracy: 1.0000 - loss: 0.4994 \n",
      "Epoch 8/10\n",
      "\u001b[1m8/8\u001b[0m \u001b[32m━━━━━━━━━━━━━━━━━━━━\u001b[0m\u001b[37m\u001b[0m \u001b[1m0s\u001b[0m 2ms/step - accuracy: 1.0000 - loss: 0.4316 \n",
      "Epoch 9/10\n",
      "\u001b[1m8/8\u001b[0m \u001b[32m━━━━━━━━━━━━━━━━━━━━\u001b[0m\u001b[37m\u001b[0m \u001b[1m0s\u001b[0m 2ms/step - accuracy: 1.0000 - loss: 0.3328 \n",
      "Epoch 10/10\n",
      "\u001b[1m8/8\u001b[0m \u001b[32m━━━━━━━━━━━━━━━━━━━━\u001b[0m\u001b[37m\u001b[0m \u001b[1m0s\u001b[0m 2ms/step - accuracy: 1.0000 - loss: 0.2509 \n"
     ]
    }
   ],
   "source": [
    "# Generate the dataset\n",
    "train_data = generate_dataset()\n",
    "# Load and preprocess the data\n",
    "X_train, y_train = preprocess_data(train_data)\n",
    "# Train the model\n",
    "train_model(model, X_train, y_train)"
   ]
  },
  {
   "cell_type": "markdown",
   "id": "4a906716",
   "metadata": {},
   "source": [
    "# Create the Tkinter application window"
   ]
  },
  {
   "cell_type": "code",
   "execution_count": 10,
   "id": "d1e40fc7",
   "metadata": {},
   "outputs": [
    {
     "data": {
      "text/plain": [
       "''"
      ]
     },
     "execution_count": 10,
     "metadata": {},
     "output_type": "execute_result"
    }
   ],
   "source": [
    "window = tk.Tk()\n",
    "window.title(\"Character Recognition\")\n",
    "window.geometry(\"500x400\")"
   ]
  },
  {
   "cell_type": "markdown",
   "id": "338552a6",
   "metadata": {},
   "source": [
    "# Define the event handler for the \"Check Characters\" button"
   ]
  },
  {
   "cell_type": "code",
   "execution_count": 11,
   "id": "bf454654",
   "metadata": {},
   "outputs": [],
   "source": [
    "def check_characters():\n",
    "    # Open file dialog to select the input file\n",
    "    file_path = filedialog.askopenfilename(filetypes=[(\"Text files\", \"*.txt\")])\n",
    "    if file_path:\n",
    "        # Read the contents of the file\n",
    "        with open(file_path, \"r\", encoding=\"utf-8\") as file:\n",
    "            content = file.read()\n",
    "\n",
    "        # Extract the characters from the content\n",
    "        test_chars = [char for char in content \n",
    "                      if char.isalpha()\n",
    "                      ]\n",
    "        if len(test_chars) > 0:\n",
    "            # Preprocess the data\n",
    "            X_test, _ = preprocess_data([(char, \"\") for char in test_chars])\n",
    "            # Test the model\n",
    "            results = test_model(model, X_test, test_chars)\n",
    "            # Create a scrolled text widget to display the results\n",
    "            result_window = tk.Toplevel(window)\n",
    "            result_window.title(\"Character Recognition Results\")\n",
    "            result_window.geometry(\"400x300\")\n",
    "            scrollbar = ttk.Scrollbar(result_window)\n",
    "            scrollbar.pack(side=tk.RIGHT, fill=tk.Y)\n",
    "            result_text = tk.Text(result_window, wrap=tk.WORD, yscrollcommand=scrollbar.set)\n",
    "            result_text.pack(fill=tk.BOTH, expand=True)\n",
    "            scrollbar.config(command=result_text.yview)\n",
    "            for result in results:\n",
    "                result_text.insert(tk.END, result + \"\\n\")\n",
    "            # Write the results to a file\n",
    "            output_file = \"output.txt\"\n",
    "            with open(output_file, \"w\") as file:\n",
    "                file.write(\"\\n\".join(results))\n",
    "            messagebox.showinfo(\"Output Saved\", f\"The output has been saved to {output_file}\")\n",
    "        else:\n",
    "            messagebox.showwarning(\"No Characters Found\", \"The selected file does not contain any alphabetic characters.\")\n"
   ]
  },
  {
   "cell_type": "markdown",
   "id": "95b01a16",
   "metadata": {},
   "source": [
    "# Create the \"Check Characters\" button"
   ]
  },
  {
   "cell_type": "code",
   "execution_count": 12,
   "id": "a89ac6ef",
   "metadata": {},
   "outputs": [],
   "source": [
    "check_button = tk.Button(window, text=\"Insert Characters File\", command=check_characters)\n",
    "check_button.pack()"
   ]
  },
  {
   "cell_type": "markdown",
   "id": "fc085755",
   "metadata": {},
   "source": [
    "# Start the Tkinter event loop"
   ]
  },
  {
   "cell_type": "code",
   "execution_count": 13,
   "id": "a179340d",
   "metadata": {},
   "outputs": [
    {
     "name": "stdout",
     "output_type": "stream",
     "text": [
      "\u001b[1m1/1\u001b[0m \u001b[32m━━━━━━━━━━━━━━━━━━━━\u001b[0m\u001b[37m\u001b[0m \u001b[1m0s\u001b[0m 34ms/step\n"
     ]
    }
   ],
   "source": [
    "window.mainloop()"
   ]
  },
  {
   "cell_type": "code",
   "execution_count": null,
   "id": "be47fc8b",
   "metadata": {},
   "outputs": [],
   "source": []
  }
 ],
 "metadata": {
  "kernelspec": {
   "display_name": "Python 3 (ipykernel)",
   "language": "python",
   "name": "python3"
  },
  "language_info": {
   "codemirror_mode": {
    "name": "ipython",
    "version": 3
   },
   "file_extension": ".py",
   "mimetype": "text/x-python",
   "name": "python",
   "nbconvert_exporter": "python",
   "pygments_lexer": "ipython3",
   "version": "3.11.5"
  }
 },
 "nbformat": 4,
 "nbformat_minor": 5
}
